{
 "cells": [
  {
   "cell_type": "code",
   "execution_count": 39,
   "id": "16dec2e7",
   "metadata": {},
   "outputs": [
    {
     "name": "stdout",
     "output_type": "stream",
     "text": [
      "tensor([[0.5349],\n",
      "        [0.7648]])\n"
     ]
    }
   ],
   "source": [
    "import torch\n",
    "\n",
    "x = torch.tensor([[1, 2, 3], [4, 5, 6]], dtype=torch.float32)\n",
    "x = x.reshape(-1, x.shape[1])\n",
    "\n",
    "torch.manual_seed(67)\n",
    "\n",
    "hidden_size = 50\n",
    "weight = torch.randn(x.shape[1], hidden_size)\n",
    "bias = torch.randn(hidden_size, 1)\n",
    "\n",
    "def sigmoid_activation(x):\n",
    "    return 1 / (1 + torch.exp(-x))\n",
    "\n",
    "def tanh_activation(x):\n",
    "    return torch.tanh(x)\n",
    "\n",
    "hidden_output = tanh_activation(torch.matmul(x, weight))\n",
    "output = sigmoid_activation(torch.matmul(hidden_output, bias))\n",
    "\n",
    "print(output)"
   ]
  },
  {
   "cell_type": "code",
   "execution_count": 38,
   "id": "2ed47f27",
   "metadata": {},
   "outputs": [
    {
     "name": "stdout",
     "output_type": "stream",
     "text": [
      "tensor([[0.9868],\n",
      "        [0.9406],\n",
      "        [0.8711],\n",
      "        [0.8340],\n",
      "        [0.8284],\n",
      "        [0.8385]])\n"
     ]
    }
   ],
   "source": [
    "import torch\n",
    "\n",
    "x = torch.tensor([[1, 2, 3], [4, 5, 6]], dtype=torch.float32).reshape(-1, 1)\n",
    "\n",
    "torch.manual_seed(67)\n",
    "\n",
    "hidden_size = 50\n",
    "weight = torch.randn((x.shape[1], hidden_size))\n",
    "bias = torch.randn((hidden_size, 1))\n",
    "\n",
    "def sigmoid_activation(x):\n",
    "    return 1 / (1 + torch.exp(-x))\n",
    "\n",
    "def tanh_activation(x):\n",
    "    return torch.tanh(x)\n",
    "\n",
    "hidden_output = tanh_activation(torch.matmul(x, weight))\n",
    "output = sigmoid_activation(torch.matmul(hidden_output, bias))\n",
    "\n",
    "print(output)\n"
   ]
  },
  {
   "cell_type": "code",
   "execution_count": null,
   "id": "e7bddb2d",
   "metadata": {},
   "outputs": [],
   "source": []
  },
  {
   "cell_type": "code",
   "execution_count": null,
   "id": "b51fe41c",
   "metadata": {},
   "outputs": [],
   "source": []
  }
 ],
 "metadata": {
  "kernelspec": {
   "display_name": "Python 3 (ipykernel)",
   "language": "python",
   "name": "python3"
  },
  "language_info": {
   "codemirror_mode": {
    "name": "ipython",
    "version": 3
   },
   "file_extension": ".py",
   "mimetype": "text/x-python",
   "name": "python",
   "nbconvert_exporter": "python",
   "pygments_lexer": "ipython3",
   "version": "3.11.3"
  }
 },
 "nbformat": 4,
 "nbformat_minor": 5
}
