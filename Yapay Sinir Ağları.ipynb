{
 "cells": [
  {
   "cell_type": "code",
   "execution_count": 30,
   "id": "a75e70bd",
   "metadata": {},
   "outputs": [
    {
     "ename": "RuntimeError",
     "evalue": "expected scalar type Long but found Float",
     "output_type": "error",
     "traceback": [
      "\u001b[1;31m---------------------------------------------------------------------------\u001b[0m",
      "\u001b[1;31mRuntimeError\u001b[0m                              Traceback (most recent call last)",
      "Cell \u001b[1;32mIn[30], line 18\u001b[0m\n\u001b[0;32m     15\u001b[0m \u001b[38;5;28;01mdef\u001b[39;00m \u001b[38;5;21mtanh\u001b[39m(x):\n\u001b[0;32m     16\u001b[0m     \u001b[38;5;28;01mreturn\u001b[39;00m torch\u001b[38;5;241m.\u001b[39mexp(x) \u001b[38;5;241m-\u001b[39m torch\u001b[38;5;241m.\u001b[39mexp(\u001b[38;5;241m-\u001b[39mx) \u001b[38;5;241m/\u001b[39m torch\u001b[38;5;241m.\u001b[39mexp(x) \u001b[38;5;241m+\u001b[39m torch\u001b[38;5;241m.\u001b[39mexp(\u001b[38;5;241m-\u001b[39mx)\n\u001b[1;32m---> 18\u001b[0m hidden_output \u001b[38;5;241m=\u001b[39m tanh(\u001b[43mtorch\u001b[49m\u001b[38;5;241;43m.\u001b[39;49m\u001b[43mmatmul\u001b[49m\u001b[43m(\u001b[49m\u001b[43mx\u001b[49m\u001b[43m,\u001b[49m\u001b[43m \u001b[49m\u001b[43mweight\u001b[49m\u001b[43m)\u001b[49m)\n\u001b[0;32m     19\u001b[0m sonuc \u001b[38;5;241m=\u001b[39m sigmoid_activation(torch\u001b[38;5;241m.\u001b[39mmatmul(hidden_output, bias))\n\u001b[0;32m     21\u001b[0m \u001b[38;5;28mprint\u001b[39m(sonuc)\n",
      "\u001b[1;31mRuntimeError\u001b[0m: expected scalar type Long but found Float"
     ]
    }
   ],
   "source": [
    "import torch\n",
    "\n",
    "x = torch.tensor([[1, 2, 3], [4, 5, 6]]).reshape(-1, 1)\n",
    "\n",
    "torch.manual_seed(1)\n",
    "\n",
    "hidden_size = 50 #hidden layerda 50 nöron\n",
    "weight = torch.randn((x.shape[1], hidden_size))\n",
    "bias = torch.randn((hidden_size, 1))\n",
    "\n",
    "def sigmoid_activation(x):\n",
    "    return 1 / (1 + torch.exp(-x))\n",
    "\n",
    "\n",
    "def tanh(x):\n",
    "    return torch.exp(x) - torch.exp(-x) / torch.exp(x) + torch.exp(-x)\n",
    "\n",
    "hidden_output = tanh(torch.matmul(x, weight))\n",
    "sonuc = sigmoid_activation(torch.matmul(hidden_output, bias))\n",
    "\n",
    "print(sonuc)\n"
   ]
  },
  {
   "cell_type": "code",
   "execution_count": null,
   "id": "5977a577",
   "metadata": {},
   "outputs": [],
   "source": []
  },
  {
   "cell_type": "code",
   "execution_count": null,
   "id": "bd4c6cd2",
   "metadata": {},
   "outputs": [],
   "source": []
  }
 ],
 "metadata": {
  "kernelspec": {
   "display_name": "Python 3 (ipykernel)",
   "language": "python",
   "name": "python3"
  },
  "language_info": {
   "codemirror_mode": {
    "name": "ipython",
    "version": 3
   },
   "file_extension": ".py",
   "mimetype": "text/x-python",
   "name": "python",
   "nbconvert_exporter": "python",
   "pygments_lexer": "ipython3",
   "version": "3.11.3"
  }
 },
 "nbformat": 4,
 "nbformat_minor": 5
}
